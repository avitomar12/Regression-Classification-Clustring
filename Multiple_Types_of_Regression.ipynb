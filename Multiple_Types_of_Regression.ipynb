{
 "cells": [
  {
   "cell_type": "code",
   "execution_count": 1,
   "metadata": {},
   "outputs": [],
   "source": [
    "import pandas as pd\n",
    "import matplotlib.pyplot as plt\n",
    "from sklearn.model_selection import train_test_split\n",
    "from sklearn.metrics import r2_score\n"
   ]
  },
  {
   "cell_type": "code",
   "execution_count": 2,
   "metadata": {},
   "outputs": [
    {
     "data": {
      "text/html": [
       "<div>\n",
       "<style scoped>\n",
       "    .dataframe tbody tr th:only-of-type {\n",
       "        vertical-align: middle;\n",
       "    }\n",
       "\n",
       "    .dataframe tbody tr th {\n",
       "        vertical-align: top;\n",
       "    }\n",
       "\n",
       "    .dataframe thead th {\n",
       "        text-align: right;\n",
       "    }\n",
       "</style>\n",
       "<table border=\"1\" class=\"dataframe\">\n",
       "  <thead>\n",
       "    <tr style=\"text-align: right;\">\n",
       "      <th></th>\n",
       "      <th>price</th>\n",
       "      <th>cut_Fair</th>\n",
       "      <th>cut_Good</th>\n",
       "      <th>cut_Ideal</th>\n",
       "      <th>cut_Premium</th>\n",
       "      <th>cut_Very Good</th>\n",
       "      <th>color_D</th>\n",
       "      <th>color_E</th>\n",
       "      <th>color_F</th>\n",
       "      <th>color_G</th>\n",
       "      <th>color_H</th>\n",
       "      <th>color_I</th>\n",
       "      <th>color_J</th>\n",
       "      <th>carat</th>\n",
       "      <th>depth</th>\n",
       "      <th>table</th>\n",
       "      <th>x</th>\n",
       "      <th>y</th>\n",
       "      <th>z</th>\n",
       "    </tr>\n",
       "    <tr>\n",
       "      <th>clarity</th>\n",
       "      <th></th>\n",
       "      <th></th>\n",
       "      <th></th>\n",
       "      <th></th>\n",
       "      <th></th>\n",
       "      <th></th>\n",
       "      <th></th>\n",
       "      <th></th>\n",
       "      <th></th>\n",
       "      <th></th>\n",
       "      <th></th>\n",
       "      <th></th>\n",
       "      <th></th>\n",
       "      <th></th>\n",
       "      <th></th>\n",
       "      <th></th>\n",
       "      <th></th>\n",
       "      <th></th>\n",
       "      <th></th>\n",
       "    </tr>\n",
       "  </thead>\n",
       "  <tbody>\n",
       "    <tr>\n",
       "      <th>2</th>\n",
       "      <td>945</td>\n",
       "      <td>0</td>\n",
       "      <td>0</td>\n",
       "      <td>0</td>\n",
       "      <td>1</td>\n",
       "      <td>0</td>\n",
       "      <td>0</td>\n",
       "      <td>0</td>\n",
       "      <td>1</td>\n",
       "      <td>0</td>\n",
       "      <td>0</td>\n",
       "      <td>0</td>\n",
       "      <td>0</td>\n",
       "      <td>-0.839708</td>\n",
       "      <td>0.319573</td>\n",
       "      <td>-0.201610</td>\n",
       "      <td>-0.900974</td>\n",
       "      <td>-0.953835</td>\n",
       "      <td>-0.890947</td>\n",
       "    </tr>\n",
       "    <tr>\n",
       "      <th>4</th>\n",
       "      <td>746</td>\n",
       "      <td>0</td>\n",
       "      <td>0</td>\n",
       "      <td>0</td>\n",
       "      <td>0</td>\n",
       "      <td>1</td>\n",
       "      <td>0</td>\n",
       "      <td>0</td>\n",
       "      <td>0</td>\n",
       "      <td>1</td>\n",
       "      <td>0</td>\n",
       "      <td>0</td>\n",
       "      <td>0</td>\n",
       "      <td>-0.902687</td>\n",
       "      <td>-1.801708</td>\n",
       "      <td>1.555345</td>\n",
       "      <td>-0.980896</td>\n",
       "      <td>-0.926990</td>\n",
       "      <td>-1.120639</td>\n",
       "    </tr>\n",
       "    <tr>\n",
       "      <th>1</th>\n",
       "      <td>5866</td>\n",
       "      <td>0</td>\n",
       "      <td>0</td>\n",
       "      <td>1</td>\n",
       "      <td>0</td>\n",
       "      <td>0</td>\n",
       "      <td>0</td>\n",
       "      <td>0</td>\n",
       "      <td>0</td>\n",
       "      <td>0</td>\n",
       "      <td>0</td>\n",
       "      <td>1</td>\n",
       "      <td>0</td>\n",
       "      <td>0.923703</td>\n",
       "      <td>0.036735</td>\n",
       "      <td>0.237629</td>\n",
       "      <td>0.990520</td>\n",
       "      <td>1.041622</td>\n",
       "      <td>1.018362</td>\n",
       "    </tr>\n",
       "    <tr>\n",
       "      <th>1</th>\n",
       "      <td>5006</td>\n",
       "      <td>0</td>\n",
       "      <td>0</td>\n",
       "      <td>0</td>\n",
       "      <td>1</td>\n",
       "      <td>0</td>\n",
       "      <td>1</td>\n",
       "      <td>0</td>\n",
       "      <td>0</td>\n",
       "      <td>0</td>\n",
       "      <td>0</td>\n",
       "      <td>0</td>\n",
       "      <td>0</td>\n",
       "      <td>0.440865</td>\n",
       "      <td>-0.033974</td>\n",
       "      <td>-0.201610</td>\n",
       "      <td>0.670831</td>\n",
       "      <td>0.630003</td>\n",
       "      <td>0.645114</td>\n",
       "    </tr>\n",
       "    <tr>\n",
       "      <th>3</th>\n",
       "      <td>666</td>\n",
       "      <td>0</td>\n",
       "      <td>1</td>\n",
       "      <td>0</td>\n",
       "      <td>0</td>\n",
       "      <td>0</td>\n",
       "      <td>0</td>\n",
       "      <td>0</td>\n",
       "      <td>0</td>\n",
       "      <td>0</td>\n",
       "      <td>0</td>\n",
       "      <td>1</td>\n",
       "      <td>0</td>\n",
       "      <td>-0.839708</td>\n",
       "      <td>1.450923</td>\n",
       "      <td>-1.519326</td>\n",
       "      <td>-0.936495</td>\n",
       "      <td>-0.909094</td>\n",
       "      <td>-0.776102</td>\n",
       "    </tr>\n",
       "  </tbody>\n",
       "</table>\n",
       "</div>"
      ],
      "text/plain": [
       "         price  cut_Fair  cut_Good  cut_Ideal  cut_Premium  cut_Very Good  \\\n",
       "clarity                                                                     \n",
       "2          945         0         0          0            1              0   \n",
       "4          746         0         0          0            0              1   \n",
       "1         5866         0         0          1            0              0   \n",
       "1         5006         0         0          0            1              0   \n",
       "3          666         0         1          0            0              0   \n",
       "\n",
       "         color_D  color_E  color_F  color_G  color_H  color_I  color_J  \\\n",
       "clarity                                                                  \n",
       "2              0        0        1        0        0        0        0   \n",
       "4              0        0        0        1        0        0        0   \n",
       "1              0        0        0        0        0        1        0   \n",
       "1              1        0        0        0        0        0        0   \n",
       "3              0        0        0        0        0        1        0   \n",
       "\n",
       "            carat     depth     table         x         y         z  \n",
       "clarity                                                              \n",
       "2       -0.839708  0.319573 -0.201610 -0.900974 -0.953835 -0.890947  \n",
       "4       -0.902687 -1.801708  1.555345 -0.980896 -0.926990 -1.120639  \n",
       "1        0.923703  0.036735  0.237629  0.990520  1.041622  1.018362  \n",
       "1        0.440865 -0.033974 -0.201610  0.670831  0.630003  0.645114  \n",
       "3       -0.839708  1.450923 -1.519326 -0.936495 -0.909094 -0.776102  "
      ]
     },
     "execution_count": 2,
     "metadata": {},
     "output_type": "execute_result"
    }
   ],
   "source": [
    "data=pd.read_csv('./Dataset/diamonds_processed.csv',index_col=0)\n",
    "data.head()"
   ]
  },
  {
   "cell_type": "code",
   "execution_count": 3,
   "metadata": {},
   "outputs": [],
   "source": [
    "from sklearn.linear_model import LinearRegression\n",
    "def linear_model(x_train,y_train):\n",
    "\n",
    "    print('Linear Regression')\n",
    "    \n",
    "    linear_regression = LinearRegression()\n",
    "    linear_regression.fit(x_train,y_train)\n",
    "    \n",
    "    return linear_regression\n",
    "\n",
    "from sklearn.linear_model import Lasso\n",
    "def lasso_model(x_train,y_train):\n",
    "\n",
    "    print('Lasso Regression')\n",
    "    \n",
    "    lasso_regression = Lasso(alpha=0.8,max_iter=10000)\n",
    "    lasso_regression.fit(x_train,y_train)\n",
    "    \n",
    "    return lasso_regression\n",
    "\n",
    "from sklearn.linear_model import Ridge\n",
    "def ridge_model(x_train,y_train):\n",
    "\n",
    "    print('Ridge Regression')\n",
    "    \n",
    "    ridge_regression = Ridge(alpha=0.9)\n",
    "    ridge_regression.fit(x_train,y_train)\n",
    "    \n",
    "    return ridge_regression\n"
   ]
  },
  {
   "cell_type": "code",
   "execution_count": 4,
   "metadata": {},
   "outputs": [],
   "source": [
    "def build_and_train_model(data,target_name,reg_fn):\n",
    "    X = data.drop(target_name, axis=1)\n",
    "    Y=data[target_name]\n",
    "    \n",
    "    x_train, x_test, y_train, y_test=train_test_split(X,Y,test_size=0.2,random_state=0)\n",
    "    \n",
    "    model=reg_fn(x_train,y_train)\n",
    "    \n",
    "    score=model.score(x_train,y_train)\n",
    "    print('Training Score : ', score)\n",
    "    \n",
    "    y_pred=model.predict(x_test)\n",
    "    r_score=r2_score(y_test,y_pred)\n",
    "    print(\"Testing Score : \",r_score)\n",
    "    \n",
    "    return {'model':model,\n",
    "           'x_train':x_train, 'x_test':x_test,\n",
    "           'y_train':y_train, 'y_test':y_test,\n",
    "           'y_pred':y_pred\n",
    "           }"
   ]
  },
  {
   "cell_type": "code",
   "execution_count": 5,
   "metadata": {},
   "outputs": [
    {
     "name": "stdout",
     "output_type": "stream",
     "text": [
      "Linear Regression\n",
      "Training Score :  0.880772672816\n",
      "Testing Score :  0.8686317293\n"
     ]
    }
   ],
   "source": [
    "linear_reg=build_and_train_model(data,'price',linear_model)"
   ]
  },
  {
   "cell_type": "code",
   "execution_count": 6,
   "metadata": {},
   "outputs": [
    {
     "name": "stdout",
     "output_type": "stream",
     "text": [
      "Lasso Regression\n",
      "Training Score :  0.880687534732\n",
      "Testing Score :  0.868452368952\n"
     ]
    }
   ],
   "source": [
    "lasso_reg=build_and_train_model(data,'price',lasso_model)"
   ]
  },
  {
   "cell_type": "code",
   "execution_count": 7,
   "metadata": {},
   "outputs": [
    {
     "name": "stdout",
     "output_type": "stream",
     "text": [
      "Ridge Regression\n",
      "Training Score :  0.880769432795\n",
      "Testing Score :  0.868586474155\n"
     ]
    }
   ],
   "source": [
    "ridge_reg=build_and_train_model(data,'price',ridge_model)"
   ]
  },
  {
   "cell_type": "code",
   "execution_count": 8,
   "metadata": {},
   "outputs": [
    {
     "data": {
      "text/plain": [
       "LinearRegression(copy_X=True, fit_intercept=True, n_jobs=1, normalize=False)"
      ]
     },
     "execution_count": 8,
     "metadata": {},
     "output_type": "execute_result"
    }
   ],
   "source": [
    "linear_reg['model']"
   ]
  },
  {
   "cell_type": "code",
   "execution_count": 9,
   "metadata": {},
   "outputs": [
    {
     "data": {
      "text/plain": [
       "Lasso(alpha=0.8, copy_X=True, fit_intercept=True, max_iter=10000,\n",
       "   normalize=False, positive=False, precompute=False, random_state=None,\n",
       "   selection='cyclic', tol=0.0001, warm_start=False)"
      ]
     },
     "execution_count": 9,
     "metadata": {},
     "output_type": "execute_result"
    }
   ],
   "source": [
    "lasso_reg['model']"
   ]
  },
  {
   "cell_type": "code",
   "execution_count": 10,
   "metadata": {},
   "outputs": [],
   "source": [
    "from sklearn.linear_model import SGDRegressor\n",
    "def sdg_model(x_train,y_train):\n",
    "\n",
    "    print('SDG Regression')\n",
    "    \n",
    "    sdg_regression = Ridge(max_iter=2000)\n",
    "    sdg_regression.fit(x_train,y_train)\n",
    "    \n",
    "    return sdg_regression\n"
   ]
  },
  {
   "cell_type": "code",
   "execution_count": 11,
   "metadata": {},
   "outputs": [
    {
     "name": "stdout",
     "output_type": "stream",
     "text": [
      "SDG Regression\n",
      "Training Score :  0.880768270271\n",
      "Testing Score :  0.868586348851\n"
     ]
    }
   ],
   "source": [
    "sdg_reg=build_and_train_model(data,'price',sdg_model)"
   ]
  },
  {
   "cell_type": "code",
   "execution_count": null,
   "metadata": {},
   "outputs": [],
   "source": []
  }
 ],
 "metadata": {
  "kernelspec": {
   "display_name": "Python 3",
   "language": "python",
   "name": "python3"
  },
  "language_info": {
   "codemirror_mode": {
    "name": "ipython",
    "version": 3
   },
   "file_extension": ".py",
   "mimetype": "text/x-python",
   "name": "python",
   "nbconvert_exporter": "python",
   "pygments_lexer": "ipython3",
   "version": "3.6.3"
  }
 },
 "nbformat": 4,
 "nbformat_minor": 2
}
